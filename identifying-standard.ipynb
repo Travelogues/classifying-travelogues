{
 "cells": [
  {
   "cell_type": "markdown",
   "metadata": {},
   "source": [
    "# Travelogues classifier evaluation (standard ML)"
   ]
  },
  {
   "cell_type": "markdown",
   "metadata": {},
   "source": [
    "## Results"
   ]
  },
  {
   "cell_type": "code",
   "execution_count": 74,
   "metadata": {},
   "outputs": [
    {
     "data": {
      "text/html": [
       "<div>\n",
       "<style scoped>\n",
       "    .dataframe tbody tr th:only-of-type {\n",
       "        vertical-align: middle;\n",
       "    }\n",
       "\n",
       "    .dataframe tbody tr th {\n",
       "        vertical-align: top;\n",
       "    }\n",
       "\n",
       "    .dataframe thead th {\n",
       "        text-align: right;\n",
       "    }\n",
       "</style>\n",
       "<table border=\"1\" class=\"dataframe\">\n",
       "  <thead>\n",
       "    <tr style=\"text-align: right;\">\n",
       "      <th></th>\n",
       "      <th>Classifier</th>\n",
       "      <th>Precision</th>\n",
       "      <th>Recall</th>\n",
       "      <th>Accuracy</th>\n",
       "      <th>F1</th>\n",
       "    </tr>\n",
       "  </thead>\n",
       "  <tbody>\n",
       "    <tr>\n",
       "      <th>0</th>\n",
       "      <td>Dummy (1-2)</td>\n",
       "      <td>0.41</td>\n",
       "      <td>0.52</td>\n",
       "      <td>0.50</td>\n",
       "      <td>0.46</td>\n",
       "    </tr>\n",
       "    <tr>\n",
       "      <th>1</th>\n",
       "      <td>Multi NB (1-2)</td>\n",
       "      <td>0.47</td>\n",
       "      <td>1.00</td>\n",
       "      <td>0.53</td>\n",
       "      <td>0.64</td>\n",
       "    </tr>\n",
       "    <tr>\n",
       "      <th>2</th>\n",
       "      <td>SVM (1-2)</td>\n",
       "      <td>0.88</td>\n",
       "      <td>1.00</td>\n",
       "      <td>0.94</td>\n",
       "      <td>0.93</td>\n",
       "    </tr>\n",
       "    <tr>\n",
       "      <th>3</th>\n",
       "      <td>Log (1-2)</td>\n",
       "      <td>0.88</td>\n",
       "      <td>1.00</td>\n",
       "      <td>0.94</td>\n",
       "      <td>0.93</td>\n",
       "    </tr>\n",
       "    <tr>\n",
       "      <th>4</th>\n",
       "      <td>Dummy (1-2) legacy</td>\n",
       "      <td>0.65</td>\n",
       "      <td>0.46</td>\n",
       "      <td>0.49</td>\n",
       "      <td>0.53</td>\n",
       "    </tr>\n",
       "    <tr>\n",
       "      <th>5</th>\n",
       "      <td>Multi NB (1-2) legacy</td>\n",
       "      <td>0.73</td>\n",
       "      <td>1.00</td>\n",
       "      <td>0.76</td>\n",
       "      <td>0.85</td>\n",
       "    </tr>\n",
       "    <tr>\n",
       "      <th>6</th>\n",
       "      <td>SVM (1-2) legacy</td>\n",
       "      <td>0.95</td>\n",
       "      <td>0.91</td>\n",
       "      <td>0.91</td>\n",
       "      <td>0.93</td>\n",
       "    </tr>\n",
       "    <tr>\n",
       "      <th>7</th>\n",
       "      <td>Log (1-2) legacy</td>\n",
       "      <td>0.95</td>\n",
       "      <td>0.95</td>\n",
       "      <td>0.94</td>\n",
       "      <td>0.95</td>\n",
       "    </tr>\n",
       "  </tbody>\n",
       "</table>\n",
       "</div>"
      ],
      "text/plain": [
       "              Classifier  Precision  Recall  Accuracy    F1\n",
       "0            Dummy (1-2)       0.41    0.52      0.50  0.46\n",
       "1         Multi NB (1-2)       0.47    1.00      0.53  0.64\n",
       "2              SVM (1-2)       0.88    1.00      0.94  0.93\n",
       "3              Log (1-2)       0.88    1.00      0.94  0.93\n",
       "4     Dummy (1-2) legacy       0.65    0.46      0.49  0.53\n",
       "5  Multi NB (1-2) legacy       0.73    1.00      0.76  0.85\n",
       "6       SVM (1-2) legacy       0.95    0.91      0.91  0.93\n",
       "7       Log (1-2) legacy       0.95    0.95      0.94  0.95"
      ]
     },
     "execution_count": 74,
     "metadata": {},
     "output_type": "execute_result"
    }
   ],
   "source": [
    "# gather results and plot them\n",
    "import pandas as pd\n",
    "\n",
    "results = pd.read_csv(result_output)\n",
    "results.round(2)"
   ]
  },
  {
   "cell_type": "markdown",
   "metadata": {},
   "source": [
    "## 0. Parameters"
   ]
  },
  {
   "cell_type": "code",
   "execution_count": 25,
   "metadata": {},
   "outputs": [],
   "source": [
    "# legacy ground truth\n",
    "# True uses only the ground truth used for the creation of the paper, False also inludes travelogues added later\n",
    "legacy = True\n",
    "\n",
    "# century\n",
    "# this defines the century to be used, see travelogues-corpus for more info\n",
    "# valid options: see travelogues-corpus\n",
    "century = '16th_century'"
   ]
  },
  {
   "cell_type": "code",
   "execution_count": 27,
   "metadata": {
    "scrolled": true
   },
   "outputs": [],
   "source": [
    "# results file\n",
    "result_output = 'results/results_%s.csv' % century\n",
    "# with open(result_output, 'w+', encoding='utf-8') as results:\n",
    "#     results.write('Classifier,Precision,Recall,Accuracy,F1\\n')\n",
    "\n",
    "# scoring parameters for cross-fold validation\n",
    "from sklearn.metrics.scorer import make_scorer\n",
    "from sklearn.metrics import precision_score, recall_score, f1_score, balanced_accuracy_score\n",
    "\n",
    "scoring = {'p_cross': make_scorer(precision_score, average='macro'),\n",
    "          'r_cross': make_scorer(recall_score, average='macro'),\n",
    "          'f1_cross': make_scorer(f1_score, average='macro'),\n",
    "          'a_balanced_cross': make_scorer(balanced_accuracy_score)}"
   ]
  },
  {
   "cell_type": "code",
   "execution_count": 29,
   "metadata": {},
   "outputs": [],
   "source": [
    "# loading the data\n",
    "\n",
    "from sklearn.datasets import load_files\n",
    "\n",
    "# groundtruth\n",
    "if legacy is True:\n",
    "    # data directory\n",
    "    books = 'groundtruth/%s/' % century\n",
    "    ground_truth = load_files(books,\n",
    "                              description='Ground truth',\n",
    "                              encoding='utf-8',\n",
    "                              categories=['travelogues-legacy', 'non-travelogues'])\n",
    "else:\n",
    "    # data directory\n",
    "    books = '../travelogues-corpus/%s/books/' % century\n",
    "    ground_truth = load_files(books,\n",
    "                              description='Ground truth',\n",
    "                              encoding='utf-8',\n",
    "                              categories=['travelogues', 'non-travelogues'])\n",
    "\n",
    "X_ground_truth, y_ground_truth = ground_truth.data, ground_truth.target\n",
    "class_names = ground_truth.target_names\n",
    "\n",
    "# currently disabled, as we only provide the ground truth at the moment\n",
    "# # candidates\n",
    "# candidates = load_files(books,\n",
    "#                         description='Travelogue candidates',\n",
    "#                         encoding='utf-8',\n",
    "#                         categories=['other'])\n",
    "\n",
    "# X_candidates, y_candidates = candidates.data, candidates.target"
   ]
  },
  {
   "cell_type": "code",
   "execution_count": 30,
   "metadata": {},
   "outputs": [],
   "source": [
    "# confusion matrix plot\n",
    "\n",
    "import itertools\n",
    "import matplotlib.pyplot as plt\n",
    "from sklearn.metrics import confusion_matrix\n",
    "\n",
    "def plot_confusion_matrix(cm, classes,\n",
    "                          normalize=False,\n",
    "                          title='Confusion matrix',\n",
    "                          cmap=plt.cm.Blues):\n",
    "    \"\"\"\n",
    "    This function prints and plots the confusion matrix.\n",
    "    Normalization can be applied by setting `normalize=True`.\n",
    "    \"\"\"\n",
    "    if normalize:\n",
    "        cm = cm.astype('float') / cm.sum(axis=1)[:, np.newaxis]\n",
    "\n",
    "    plt.imshow(cm, interpolation='nearest', cmap=cmap)\n",
    "    plt.title(title)\n",
    "    plt.colorbar()\n",
    "    tick_marks = np.arange(len(classes))\n",
    "    plt.xticks(tick_marks, classes, rotation=45)\n",
    "    plt.yticks(tick_marks, classes)\n",
    "\n",
    "    fmt = '.2f' if normalize else 'd'\n",
    "    thresh = cm.max() / 2.\n",
    "    for i, j in itertools.product(range(cm.shape[0]), range(cm.shape[1])):\n",
    "        plt.text(j, i, format(cm[i, j], fmt),\n",
    "                 horizontalalignment=\"center\",\n",
    "                 color=\"white\" if cm[i, j] > thresh else \"black\")\n",
    "\n",
    "    plt.tight_layout()\n",
    "    plt.ylabel('True label')\n",
    "    plt.xlabel('Predicted label')"
   ]
  },
  {
   "cell_type": "markdown",
   "metadata": {},
   "source": [
    "## 1. Baseline classification"
   ]
  },
  {
   "cell_type": "code",
   "execution_count": 53,
   "metadata": {
    "scrolled": true
   },
   "outputs": [],
   "source": [
    "# split into training and test data\n",
    "\n",
    "from sklearn.model_selection import train_test_split\n",
    "\n",
    "X_train_base, X_test_base, y_train_base, y_test_base = train_test_split(X_ground_truth, y_ground_truth, \n",
    "                                                                        random_state=42, shuffle=True)"
   ]
  },
  {
   "cell_type": "code",
   "execution_count": 54,
   "metadata": {
    "scrolled": true
   },
   "outputs": [],
   "source": [
    "# special case for Multi NB\n",
    "\n",
    "from sklearn.feature_extraction.text import CountVectorizer\n",
    "\n",
    "count_vect = CountVectorizer(ngram_range=(1, 2), token_pattern='(?u)\\\\b\\\\w\\\\w+\\\\b')\n",
    "\n",
    "X_train_base_count = count_vect.fit_transform(X_train_base)\n",
    "X_test_base_count = count_vect.transform(X_test_base)"
   ]
  },
  {
   "cell_type": "code",
   "execution_count": 55,
   "metadata": {},
   "outputs": [],
   "source": [
    "# transform text into vectors, and\n",
    "# transform into tf-idf values\n",
    "\n",
    "from sklearn.feature_extraction.text import HashingVectorizer\n",
    "from sklearn.feature_extraction.text import TfidfTransformer\n",
    "\n",
    "hash_vect = HashingVectorizer(ngram_range=(1, 2), token_pattern='(?u)\\\\b\\\\w\\\\w+\\\\b')\n",
    "\n",
    "X_train_base = hash_vect.fit_transform(X_train_base)\n",
    "\n",
    "# only transform, no fitting - as dictionary could be different to the training data\n",
    "X_test_base = hash_vect.transform(X_test_base)"
   ]
  },
  {
   "cell_type": "markdown",
   "metadata": {},
   "source": [
    "### 1.1 Random"
   ]
  },
  {
   "cell_type": "code",
   "execution_count": 56,
   "metadata": {},
   "outputs": [],
   "source": [
    "from sklearn.dummy import DummyClassifier\n",
    "\n",
    "dummy_clf = DummyClassifier(strategy='stratified')"
   ]
  },
  {
   "cell_type": "code",
   "execution_count": 57,
   "metadata": {},
   "outputs": [
    {
     "name": "stderr",
     "output_type": "stream",
     "text": [
      "100%|██████████| 1000/1000 [00:07<00:00, 134.87it/s]\n"
     ]
    }
   ],
   "source": [
    "# perform the classification a number of times, to account for the small training data\n",
    "# store metrics from each iteration\n",
    "\n",
    "from sklearn.metrics import precision_score, recall_score, f1_score, accuracy_score\n",
    "from tqdm import tqdm\n",
    "\n",
    "votes_dummy_p = []\n",
    "votes_dummy_r = []\n",
    "votes_dummy_a = []\n",
    "votes_dummy_f1 = []\n",
    "\n",
    "# tqdm() gives a nice progress bar\n",
    "# 1000 iterations because the data set is small - can reduce or set to 1 if more data available (no big changes between runs)\n",
    "for i in tqdm(range(0, 1000)):\n",
    "    dummy_clf.fit(X_train_base, y_train_base)\n",
    "    predicted = dummy_clf.predict(X_test_base)\n",
    "    \n",
    "    votes_dummy_p.append(precision_score(y_test_base, predicted))\n",
    "    votes_dummy_r.append(recall_score(y_test_base, predicted))\n",
    "    votes_dummy_a.append(accuracy_score(y_test_base, predicted))\n",
    "    votes_dummy_f1.append(f1_score(y_test_base, predicted))"
   ]
  },
  {
   "cell_type": "code",
   "execution_count": 58,
   "metadata": {},
   "outputs": [
    {
     "name": "stdout",
     "output_type": "stream",
     "text": [
      "average precision: 0.649080\n",
      "average recall: 0.457909\n",
      "average accuracy: 0.489265\n",
      "average f1: 0.532461\n"
     ]
    }
   ],
   "source": [
    "# output average metrics\n",
    "\n",
    "import numpy as np\n",
    "\n",
    "print('average precision: %f' % np.mean(votes_dummy_p))\n",
    "print('average recall: %f' % np.mean(votes_dummy_r))\n",
    "print('average accuracy: %f' % np.mean(votes_dummy_a))\n",
    "print('average f1: %f' % np.mean(votes_dummy_f1))\n",
    "\n",
    "with open(result_output, 'a', encoding='utf-8') as results:\n",
    "    if legacy is True:\n",
    "        results.write('Dummy (1-2) legacy,%f,%f,%f,%f\\n' % (np.mean(votes_dummy_p), np.mean(votes_dummy_r), np.mean(votes_dummy_a), np.mean(votes_dummy_f1)))\n",
    "    else:\n",
    "        results.write('Dummy (1-2),%f,%f,%f,%f\\n' % (np.mean(votes_dummy_p), np.mean(votes_dummy_r), np.mean(votes_dummy_a), np.mean(votes_dummy_f1)))"
   ]
  },
  {
   "cell_type": "markdown",
   "metadata": {},
   "source": [
    "### 1.2 Multinominal Naive Bayes"
   ]
  },
  {
   "cell_type": "code",
   "execution_count": 59,
   "metadata": {},
   "outputs": [],
   "source": [
    "# sklearn Multinominal NaiveBayes, a classic for text classification\n",
    "\n",
    "from sklearn.naive_bayes import MultinomialNB\n",
    "\n",
    "multiNB_clf = MultinomialNB()"
   ]
  },
  {
   "cell_type": "code",
   "execution_count": 60,
   "metadata": {},
   "outputs": [
    {
     "data": {
      "text/plain": [
       "MultinomialNB(alpha=1.0, class_prior=None, fit_prior=True)"
      ]
     },
     "execution_count": 60,
     "metadata": {},
     "output_type": "execute_result"
    }
   ],
   "source": [
    "from sklearn.metrics import precision_score, recall_score, f1_score, accuracy_score\n",
    "\n",
    "multiNB_clf.fit(X_train_base_count, y_train_base)"
   ]
  },
  {
   "cell_type": "code",
   "execution_count": 61,
   "metadata": {},
   "outputs": [
    {
     "name": "stdout",
     "output_type": "stream",
     "text": [
      "fit_time : 1.32\n",
      "score_time : 0.32\n",
      "test_p_cross : 0.76\n",
      "train_p_cross : 0.98\n",
      "test_r_cross : 0.72\n",
      "train_r_cross : 0.98\n",
      "test_f1_cross : 0.69\n",
      "train_f1_cross : 0.98\n",
      "test_a_balanced_cross : 0.72\n",
      "train_a_balanced_cross : 0.98\n"
     ]
    }
   ],
   "source": [
    "from sklearn.model_selection import cross_validate\n",
    "from numpy import average\n",
    "\n",
    "scores_multiNB = cross_validate(multiNB_clf, X_train_base_count, y_train_base,\n",
    "                                scoring=scoring, cv=5, return_train_score=True)\n",
    "\n",
    "for score in scores_multiNB:\n",
    "    print(score, ':', round(average(scores_multiNB[score]), 2))"
   ]
  },
  {
   "cell_type": "code",
   "execution_count": 62,
   "metadata": {},
   "outputs": [
    {
     "name": "stdout",
     "output_type": "stream",
     "text": [
      "precision: 0.733333\n",
      "recall: 1.000000\n",
      "accuracy: 0.764706\n",
      "f1: 0.846154\n"
     ]
    }
   ],
   "source": [
    "# test on held- out dataset\n",
    "import numpy as np\n",
    "\n",
    "predicted = multiNB_clf.predict(X_test_base_count)\n",
    "\n",
    "multiNB_p = precision_score(y_test_base, predicted)\n",
    "multiNB_r = recall_score(y_test_base, predicted)\n",
    "multiNB_f1 = f1_score(y_test_base, predicted)\n",
    "multiNB_a = accuracy_score(y_test_base, predicted)\n",
    "\n",
    "print('precision: %f' % multiNB_p)\n",
    "print('recall: %f' % multiNB_r)\n",
    "print('accuracy: %f' % multiNB_a)\n",
    "print('f1: %f' % multiNB_f1)\n",
    "\n",
    "with open(result_output, 'a', encoding='utf-8') as results:\n",
    "    if legacy is True:\n",
    "        results.write('Multi NB (1-2) legacy,%f,%f,%f,%f\\n' % (multiNB_p, multiNB_r, multiNB_a, multiNB_f1))\n",
    "    else:\n",
    "        results.write('Multi NB (1-2),%f,%f,%f,%f\\n' % (multiNB_p, multiNB_r, multiNB_a, multiNB_f1))"
   ]
  },
  {
   "cell_type": "code",
   "execution_count": 63,
   "metadata": {},
   "outputs": [
    {
     "data": {
      "image/png": "[encoded data removed]",
      "text/plain": [
       "<Figure size 432x288 with 2 Axes>"
      ]
     },
     "metadata": {
      "needs_background": "light"
     },
     "output_type": "display_data"
    },
    {
     "data": {
      "image/png": "[encoded data removed]",
      "text/plain": [
       "<Figure size 432x288 with 2 Axes>"
      ]
     },
     "metadata": {
      "needs_background": "light"
     },
     "output_type": "display_data"
    }
   ],
   "source": [
    "# Compute confusion matrix\n",
    "cnf_matrix = confusion_matrix(y_test_base, predicted)\n",
    "np.set_printoptions(precision=2)\n",
    "\n",
    "# Plot non-normalized confusion matrix\n",
    "plt.figure()\n",
    "plot_confusion_matrix(cnf_matrix, classes=class_names,\n",
    "                      title='Confusion matrix, without normalization')\n",
    "\n",
    "# Plot normalized confusion matrix\n",
    "plt.figure()\n",
    "plot_confusion_matrix(cnf_matrix, classes=class_names, normalize=True,\n",
    "                      title='Normalized confusion matrix')\n",
    "\n",
    "plt.show()"
   ]
  },
  {
   "cell_type": "markdown",
   "metadata": {},
   "source": [
    "### 1.3 Support Vector Machine"
   ]
  },
  {
   "cell_type": "code",
   "execution_count": 64,
   "metadata": {},
   "outputs": [],
   "source": [
    "# sklearn SVM classifier, described as best for text classification problems\n",
    "\n",
    "from sklearn.linear_model import SGDClassifier\n",
    "\n",
    "svm_clf = SGDClassifier(loss='hinge', penalty='l2', alpha=1e-3, random_state=42, max_iter=50, tol=None)"
   ]
  },
  {
   "cell_type": "code",
   "execution_count": 65,
   "metadata": {
    "scrolled": true
   },
   "outputs": [
    {
     "data": {
      "text/plain": [
       "SGDClassifier(alpha=0.001, average=False, class_weight=None,\n",
       "              early_stopping=False, epsilon=0.1, eta0=0.0, fit_intercept=True,\n",
       "              l1_ratio=0.15, learning_rate='optimal', loss='hinge', max_iter=50,\n",
       "              n_iter_no_change=5, n_jobs=None, penalty='l2', power_t=0.5,\n",
       "              random_state=42, shuffle=True, tol=None, validation_fraction=0.1,\n",
       "              verbose=0, warm_start=False)"
      ]
     },
     "execution_count": 65,
     "metadata": {},
     "output_type": "execute_result"
    }
   ],
   "source": [
    "from sklearn.metrics import precision_score, recall_score, f1_score, accuracy_score\n",
    "\n",
    "svm_clf.fit(X_train_base, y_train_base)"
   ]
  },
  {
   "cell_type": "code",
   "execution_count": 66,
   "metadata": {},
   "outputs": [
    {
     "name": "stdout",
     "output_type": "stream",
     "text": [
      "fit_time : 4.11\n",
      "score_time : 0.02\n",
      "test_p_cross : 0.91\n",
      "train_p_cross : 0.99\n",
      "test_r_cross : 0.91\n",
      "train_r_cross : 1.0\n",
      "test_f1_cross : 0.9\n",
      "train_f1_cross : 0.99\n",
      "test_a_balanced_cross : 0.91\n",
      "train_a_balanced_cross : 1.0\n"
     ]
    }
   ],
   "source": [
    "from sklearn.model_selection import cross_validate\n",
    "from numpy import average\n",
    "\n",
    "scores_svm_clf = cross_validate(svm_clf, X_train_base, y_train_base,\n",
    "                                scoring=scoring, cv=5, return_train_score=True)\n",
    "\n",
    "for score in scores_svm_clf:\n",
    "    print(score, ':', round(average(scores_svm_clf[score]), 2))"
   ]
  },
  {
   "cell_type": "code",
   "execution_count": 67,
   "metadata": {},
   "outputs": [
    {
     "name": "stdout",
     "output_type": "stream",
     "text": [
      "precision: 0.952381\n",
      "recall: 0.909091\n",
      "accuracy: 0.911765\n",
      "f1: 0.930233\n"
     ]
    }
   ],
   "source": [
    "# test on held-out dataset\n",
    "predicted = svm_clf.predict(X_test_base)\n",
    "    \n",
    "svm_p = precision_score(y_test_base, predicted)\n",
    "svm_r = recall_score(y_test_base, predicted)\n",
    "svm_a = accuracy_score(y_test_base, predicted)\n",
    "svm_f1 = f1_score(y_test_base, predicted)\n",
    "\n",
    "import numpy as np\n",
    "\n",
    "print('precision: %f' % svm_p)\n",
    "print('recall: %f' % svm_r)\n",
    "print('accuracy: %f' % svm_a)\n",
    "print('f1: %f' % svm_f1)\n",
    "\n",
    "with open(result_output, 'a', encoding='utf-8') as results:\n",
    "    if legacy is True:\n",
    "        results.write('SVM (1-2) legacy,%f,%f,%f,%f\\n' % (svm_p, svm_r, svm_a, svm_f1))\n",
    "    else:\n",
    "        results.write('SVM (1-2),%f,%f,%f,%f\\n' % (svm_p, svm_r, svm_a, svm_f1))"
   ]
  },
  {
   "cell_type": "code",
   "execution_count": 68,
   "metadata": {},
   "outputs": [
    {
     "data": {
      "image/png": "[encoded data removed]",
      "text/plain": [
       "<Figure size 432x288 with 2 Axes>"
      ]
     },
     "metadata": {
      "needs_background": "light"
     },
     "output_type": "display_data"
    },
    {
     "data": {
      "image/png": "[encoded data removed]",
      "text/plain": [
       "<Figure size 432x288 with 2 Axes>"
      ]
     },
     "metadata": {
      "needs_background": "light"
     },
     "output_type": "display_data"
    }
   ],
   "source": [
    "# Compute confusion matrix\n",
    "cnf_matrix = confusion_matrix(y_test_base, predicted)\n",
    "np.set_printoptions(precision=2)\n",
    "\n",
    "# Plot non-normalized confusion matrix\n",
    "plt.figure()\n",
    "plot_confusion_matrix(cnf_matrix, classes=class_names,\n",
    "                      title='Confusion matrix, without normalization')\n",
    "\n",
    "# Plot normalized confusion matrix\n",
    "plt.figure()\n",
    "plot_confusion_matrix(cnf_matrix, classes=class_names, normalize=True,\n",
    "                      title='Normalized confusion matrix')\n",
    "\n",
    "plt.show()"
   ]
  },
  {
   "cell_type": "markdown",
   "metadata": {},
   "source": [
    "### 1.4 Logistic Regression"
   ]
  },
  {
   "cell_type": "code",
   "execution_count": 69,
   "metadata": {},
   "outputs": [],
   "source": [
    "# sklearn SVM classifier, described as best for text classification problems\n",
    "\n",
    "from sklearn.linear_model import SGDClassifier\n",
    "\n",
    "log_clf = SGDClassifier(loss='log', penalty='l2', alpha=1e-3, random_state=42, max_iter=50, tol=None)"
   ]
  },
  {
   "cell_type": "code",
   "execution_count": 70,
   "metadata": {
    "scrolled": true
   },
   "outputs": [
    {
     "data": {
      "text/plain": [
       "SGDClassifier(alpha=0.001, average=False, class_weight=None,\n",
       "              early_stopping=False, epsilon=0.1, eta0=0.0, fit_intercept=True,\n",
       "              l1_ratio=0.15, learning_rate='optimal', loss='log', max_iter=50,\n",
       "              n_iter_no_change=5, n_jobs=None, penalty='l2', power_t=0.5,\n",
       "              random_state=42, shuffle=True, tol=None, validation_fraction=0.1,\n",
       "              verbose=0, warm_start=False)"
      ]
     },
     "execution_count": 70,
     "metadata": {},
     "output_type": "execute_result"
    }
   ],
   "source": [
    "from sklearn.metrics import precision_score, recall_score, f1_score, accuracy_score\n",
    "\n",
    "log_clf.fit(X_train_base, y_train_base)"
   ]
  },
  {
   "cell_type": "code",
   "execution_count": 71,
   "metadata": {},
   "outputs": [
    {
     "name": "stdout",
     "output_type": "stream",
     "text": [
      "fit_time : 6.1\n",
      "score_time : 0.02\n",
      "test_p_cross : 0.88\n",
      "train_p_cross : 0.97\n",
      "test_r_cross : 0.88\n",
      "train_r_cross : 0.98\n",
      "test_f1_cross : 0.88\n",
      "train_f1_cross : 0.97\n",
      "test_a_balanced_cross : 0.88\n",
      "train_a_balanced_cross : 0.98\n"
     ]
    }
   ],
   "source": [
    "from sklearn.model_selection import cross_validate\n",
    "from numpy import average\n",
    "\n",
    "scores_log_clf = cross_validate(log_clf, X_train_base, y_train_base,\n",
    "                                scoring=scoring, cv=5, return_train_score=True)\n",
    "\n",
    "for score in scores_log_clf:\n",
    "    print(score, ':', round(average(scores_log_clf[score]), 2))"
   ]
  },
  {
   "cell_type": "code",
   "execution_count": 72,
   "metadata": {},
   "outputs": [
    {
     "name": "stdout",
     "output_type": "stream",
     "text": [
      "precision: 0.954545\n",
      "recall: 0.954545\n",
      "accuracy: 0.941176\n",
      "f1: 0.954545\n"
     ]
    }
   ],
   "source": [
    "# test on held-out dataset\n",
    "predicted = log_clf.predict(X_test_base)\n",
    "    \n",
    "log_p = precision_score(y_test_base, predicted)\n",
    "log_r = recall_score(y_test_base, predicted)\n",
    "log_a = accuracy_score(y_test_base, predicted)\n",
    "log_f1 = f1_score(y_test_base, predicted)\n",
    "\n",
    "import numpy as np\n",
    "\n",
    "print('precision: %f' % log_p)\n",
    "print('recall: %f' % log_r)\n",
    "print('accuracy: %f' % log_a)\n",
    "print('f1: %f' % log_f1)\n",
    "\n",
    "with open(result_output, 'a', encoding='utf-8') as results:\n",
    "    if legacy is True:\n",
    "        results.write('Log (1-2) legacy,%f,%f,%f,%f\\n' % (log_p, log_r, log_a, log_f1))\n",
    "    else:\n",
    "        results.write('Log (1-2),%f,%f,%f,%f\\n' % (log_p, log_r, log_a, log_f1))"
   ]
  },
  {
   "cell_type": "code",
   "execution_count": 73,
   "metadata": {},
   "outputs": [
    {
     "data": {
      "image/png": "[encoded data removed]",
      "text/plain": [
       "<Figure size 432x288 with 2 Axes>"
      ]
     },
     "metadata": {
      "needs_background": "light"
     },
     "output_type": "display_data"
    },
    {
     "data": {
      "image/png": "[encoded data removed]",
      "text/plain": [
       "<Figure size 432x288 with 2 Axes>"
      ]
     },
     "metadata": {
      "needs_background": "light"
     },
     "output_type": "display_data"
    }
   ],
   "source": [
    "# Compute confusion matrix\n",
    "cnf_matrix = confusion_matrix(y_test_base, predicted)\n",
    "np.set_printoptions(precision=2)\n",
    "\n",
    "# Plot non-normalized confusion matrix\n",
    "plt.figure()\n",
    "plot_confusion_matrix(cnf_matrix, classes=class_names,\n",
    "                      title='Confusion matrix, without normalization')\n",
    "\n",
    "# Plot normalized confusion matrix\n",
    "plt.figure()\n",
    "plot_confusion_matrix(cnf_matrix, classes=class_names, normalize=True,\n",
    "                      title='Normalized confusion matrix')\n",
    "\n",
    "plt.show()"
   ]
  },
  {
   "cell_type": "code",
   "execution_count": null,
   "metadata": {},
   "outputs": [],
   "source": []
  }
 ],
 "metadata": {
  "kernelspec": {
   "display_name": "Python 3",
   "language": "python",
   "name": "python3"
  },
  "language_info": {
   "codemirror_mode": {
    "name": "ipython",
    "version": 3
   },
   "file_extension": ".py",
   "mimetype": "text/x-python",
   "name": "python",
   "nbconvert_exporter": "python",
   "pygments_lexer": "ipython3",
   "version": "3.6.9"
  }
 },
 "nbformat": 4,
 "nbformat_minor": 2
}
